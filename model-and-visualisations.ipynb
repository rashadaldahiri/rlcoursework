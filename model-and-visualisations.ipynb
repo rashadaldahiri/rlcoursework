{
 "cells": [
  {
   "cell_type": "markdown",
   "metadata": {},
   "source": [
    "# Testing DDPG"
   ]
  },
  {
   "cell_type": "markdown",
   "metadata": {},
   "source": [
    "## Imports"
   ]
  },
  {
   "cell_type": "code",
   "execution_count": 12,
   "metadata": {},
   "outputs": [],
   "source": [
    "import gymnasium as gym\n",
    "from stable_baselines3 import PPO\n",
    "from stable_baselines3.common.monitor import Monitor\n",
    "from stable_baselines3.common.monitor import Monitor\n",
    "from stable_baselines3.common.results_plotter import load_results, ts2xy\n",
    "from stable_baselines3.common.callbacks import BaseCallback\n",
    "from stable_baselines3.common.torch_layers import BaseFeaturesExtractor\n",
    "import matplotlib.pyplot as plt\n",
    "import numpy as np\n",
    "import os"
   ]
  },
  {
   "cell_type": "code",
   "execution_count": null,
   "metadata": {},
   "outputs": [],
   "source": [
    "\n",
    "\n",
    "log_dire = \"/Users/rashad/Documents/Uni/Year 4/BIOE70077 - Reinforcement Learning/Coursework/Coursework 2/gym\"\n",
    "ids = [\"Walker2d-v5\", \"Hopper-v5\"]\n",
    "log_dirs = []\n",
    "for i in range(len(ids)):\n",
    "    log_dir = log_dire + \"/\" + str(ids[i])\n",
    "    os.makedirs(log_dir, exist_ok=True)\n",
    "    env = gym.make(ids[i], render_mode=\"rgb_array\")\n",
    "    env = Monitor(env, log_dir)\n",
    "    model = PPO.load\n",
    "\n",
    "    log_dirs.append(log_dir)\n",
    "    Train the model\n",
    "    model.learn(total_timesteps=1000000, progress_bar=False)  # Set large timesteps but rely on episodes to stop\n",
    "    env.close()\n",
    "    #model.save(log_dir + \"/final_model\")"
   ]
  },
  {
   "cell_type": "markdown",
   "metadata": {},
   "source": [
    "Code from stable_baselines results_plotter modified for prettiness"
   ]
  },
  {
   "cell_type": "code",
   "execution_count": 5,
   "metadata": {},
   "outputs": [],
   "source": [
    "from typing import Callable, List, Optional, Tuple\n",
    "\n",
    "import numpy as np\n",
    "import pandas as pd\n",
    "\n",
    "# import matplotlib\n",
    "# matplotlib.use('TkAgg')  # Can change to 'Agg' for non-interactive mode\n",
    "from matplotlib import pyplot as plt\n",
    "\n",
    "from stable_baselines3.common.monitor import load_results\n",
    "\n",
    "X_TIMESTEPS = \"timesteps\"\n",
    "X_EPISODES = \"episodes\"\n",
    "X_WALLTIME = \"walltime_hrs\"\n",
    "POSSIBLE_X_AXES = [X_TIMESTEPS, X_EPISODES, X_WALLTIME]\n",
    "EPISODES_WINDOW = 100\n",
    "\n",
    "\n",
    "def rolling_window(array: np.ndarray, window: int) -> np.ndarray:\n",
    "    \"\"\"\n",
    "    Apply a rolling window to a np.ndarray\n",
    "\n",
    "    :param array: the input Array\n",
    "    :param window: length of the rolling window\n",
    "    :return: rolling window on the input array\n",
    "    \"\"\"\n",
    "    shape = array.shape[:-1] + (array.shape[-1] - window + 1, window)\n",
    "    strides = (*array.strides, array.strides[-1])\n",
    "    return np.lib.stride_tricks.as_strided(array, shape=shape, strides=strides)\n",
    "\n",
    "\n",
    "def window_func(var_1: np.ndarray, var_2: np.ndarray, window: int, func: Callable) -> Tuple[np.ndarray, np.ndarray]:\n",
    "    \"\"\"\n",
    "    Apply a function to the rolling window of 2 arrays\n",
    "\n",
    "    :param var_1: variable 1\n",
    "    :param var_2: variable 2\n",
    "    :param window: length of the rolling window\n",
    "    :param func: function to apply on the rolling window on variable 2 (such as np.mean)\n",
    "    :return:  the rolling output with applied function\n",
    "    \"\"\"\n",
    "    var_2_window = rolling_window(var_2, window)\n",
    "    function_on_var2 = func(var_2_window, axis=-1)\n",
    "    return var_1[window - 1 :], function_on_var2\n",
    "\n",
    "\n",
    "def ts2xy(data_frame: pd.DataFrame, x_axis: str) -> Tuple[np.ndarray, np.ndarray]:\n",
    "    \"\"\"\n",
    "    Decompose a data frame variable to x and ys\n",
    "\n",
    "    :param data_frame: the input data\n",
    "    :param x_axis: the axis for the x and y output\n",
    "        (can be X_TIMESTEPS='timesteps', X_EPISODES='episodes' or X_WALLTIME='walltime_hrs')\n",
    "    :return: the x and y output\n",
    "    \"\"\"\n",
    "    if x_axis == X_TIMESTEPS:\n",
    "        x_var = np.cumsum(data_frame.l.values)\n",
    "        y_var = data_frame.r.values\n",
    "    elif x_axis == X_EPISODES:\n",
    "        x_var = np.arange(len(data_frame))\n",
    "        y_var = data_frame.r.values\n",
    "    elif x_axis == X_WALLTIME:\n",
    "        # Convert to hours\n",
    "        x_var = data_frame.t.values / 3600.0\n",
    "        y_var = data_frame.r.values\n",
    "    else:\n",
    "        raise NotImplementedError\n",
    "    return x_var, y_var\n",
    "\n",
    "\n",
    "def plot_curves(\n",
    "    xy_list: List[Tuple[np.ndarray, np.ndarray]], x_axis: str, title: str, figsize: Tuple[int, int] = (8, 2)\n",
    ") -> None:\n",
    "    \"\"\"\n",
    "    plot the curves\n",
    "\n",
    "    :param xy_list: the x and y coordinates to plot\n",
    "    :param x_axis: the axis for the x and y output\n",
    "        (can be X_TIMESTEPS='timesteps', X_EPISODES='episodes' or X_WALLTIME='walltime_hrs')\n",
    "    :param title: the title of the plot\n",
    "    :param figsize: Size of the figure (width, height)\n",
    "    \"\"\"\n",
    "\n",
    "    plt.figure(title, figsize=figsize, facecolor='#121212', dpi=300)\n",
    "    max_x = max(xy[0][-1] for xy in xy_list)\n",
    "    min_x = 0\n",
    "    for _, (x, y) in enumerate(xy_list):\n",
    "        plt.scatter(x, y, s=2, c=y, cmap=\"RdYlGn\")\n",
    "        # Do not plot the smoothed curve at all if the timeseries is shorter than window size.\n",
    "\n",
    "        # Compute and plot rolling mean with window of size EPISODE_WINDOW\n",
    "        x, y_mean = window_func(x, y, EPISODES_WINDOW, np.mean)\n",
    "        plt.plot(x, y_mean, label=\"mean\")\n",
    "        plt.rcParams['axes.facecolor'] = '#121212'\n",
    "        plt.rcParams['axes.edgecolor'] = 'white'\n",
    "        plt.rcParams['axes.spines.top'] = False\n",
    "        plt.rcParams['axes.spines.right'] = False\n",
    "    plt.xlim(min_x, max_x)\n",
    "    plt.title(title, color='white')\n",
    "    plt.yticks(np.arange(round(min(y) / 500.0) * 500.0, max(y), step=500), color='white')\n",
    "    plt.xticks(color='white')\n",
    "    plt.xlabel(\"Timesteps (1e7)\", color='white')\n",
    "    plt.ylabel(\"Episode Rewards\", color='white')\n",
    "    plt.tight_layout()\n",
    "\n",
    "\n",
    "def plot_results(\n",
    "    dirs: List[str], num_timesteps: Optional[int], x_axis: str, task_name: str, figsize: Tuple[int, int] = (8, 2), \n",
    ") -> None:\n",
    "    \"\"\"\n",
    "    Plot the results using csv files from ``Monitor`` wrapper.\n",
    "\n",
    "    :param dirs: the save location of the results to plot\n",
    "    :param num_timesteps: only plot the points below this value\n",
    "    :param x_axis: the axis for the x and y output\n",
    "        (can be X_TIMESTEPS='timesteps', X_EPISODES='episodes' or X_WALLTIME='walltime_hrs')\n",
    "    :param task_name: the title of the task to plot\n",
    "    :param figsize: Size of the figure (width, height)\n",
    "    \"\"\"\n",
    "    \n",
    "    data_frames = []\n",
    "    for folder in dirs:\n",
    "        data_frame = load_results(folder)\n",
    "        if num_timesteps is not None:\n",
    "            data_frame = data_frame[data_frame.l.cumsum() <= num_timesteps]\n",
    "        data_frames.append(data_frame)\n",
    "    xy_list = [ts2xy(data_frame, x_axis) for data_frame in data_frames]\n",
    "    plot_curves(xy_list, x_axis, task_name, figsize)\n"
   ]
  },
  {
   "cell_type": "code",
   "execution_count": null,
   "metadata": {},
   "outputs": [
    {
     "ename": "IndexError",
     "evalue": "index -1 is out of bounds for axis 0 with size 0",
     "output_type": "error",
     "traceback": [
      "\u001b[0;31m---------------------------------------------------------------------------\u001b[0m",
      "\u001b[0;31mIndexError\u001b[0m                                Traceback (most recent call last)",
      "Cell \u001b[0;32mIn[17], line 7\u001b[0m\n\u001b[1;32m      4\u001b[0m \u001b[38;5;28;01mfor\u001b[39;00m i \u001b[38;5;129;01min\u001b[39;00m \u001b[38;5;28mrange\u001b[39m(\u001b[38;5;28mlen\u001b[39m(ids)):\n\u001b[1;32m      6\u001b[0m     title \u001b[38;5;241m=\u001b[39m \u001b[38;5;124mf\u001b[39m\u001b[38;5;124m\"\u001b[39m\u001b[38;5;132;01m{\u001b[39;00mtitles[i]\u001b[38;5;132;01m}\u001b[39;00m\u001b[38;5;124m using PPO over 1mtimesteps\u001b[39m\u001b[38;5;124m\"\u001b[39m\n\u001b[0;32m----> 7\u001b[0m     \u001b[43mplot_results\u001b[49m\u001b[43m(\u001b[49m\n\u001b[1;32m      8\u001b[0m \u001b[43m    \u001b[49m\u001b[43m[\u001b[49m\u001b[43m  \u001b[49m\u001b[43mlog_dirs\u001b[49m\u001b[43m[\u001b[49m\u001b[43mi\u001b[49m\u001b[43m]\u001b[49m\u001b[43m]\u001b[49m\u001b[43m,\u001b[49m\u001b[43m \u001b[49m\u001b[38;5;241;43m1e7\u001b[39;49m\u001b[43m,\u001b[49m\u001b[43m \u001b[49m\u001b[43mresults_plotter\u001b[49m\u001b[38;5;241;43m.\u001b[39;49m\u001b[43mX_TIMESTEPS\u001b[49m\u001b[43m,\u001b[49m\u001b[43m \u001b[49m\u001b[43mtitle\u001b[49m\u001b[43m,\u001b[49m\u001b[43m \u001b[49m\u001b[43mfigsize\u001b[49m\u001b[38;5;241;43m=\u001b[39;49m\u001b[43m(\u001b[49m\u001b[38;5;241;43m8\u001b[39;49m\u001b[43m,\u001b[49m\u001b[38;5;241;43m5\u001b[39;49m\u001b[43m)\u001b[49m\u001b[43m,\u001b[49m\n\u001b[1;32m      9\u001b[0m \u001b[43m)\u001b[49m\n",
      "Cell \u001b[0;32mIn[5], line 128\u001b[0m, in \u001b[0;36mplot_results\u001b[0;34m(dirs, num_timesteps, x_axis, task_name, figsize)\u001b[0m\n\u001b[1;32m    126\u001b[0m     data_frames\u001b[38;5;241m.\u001b[39mappend(data_frame)\n\u001b[1;32m    127\u001b[0m xy_list \u001b[38;5;241m=\u001b[39m [ts2xy(data_frame, x_axis) \u001b[38;5;28;01mfor\u001b[39;00m data_frame \u001b[38;5;129;01min\u001b[39;00m data_frames]\n\u001b[0;32m--> 128\u001b[0m \u001b[43mplot_curves\u001b[49m\u001b[43m(\u001b[49m\u001b[43mxy_list\u001b[49m\u001b[43m,\u001b[49m\u001b[43m \u001b[49m\u001b[43mx_axis\u001b[49m\u001b[43m,\u001b[49m\u001b[43m \u001b[49m\u001b[43mtask_name\u001b[49m\u001b[43m,\u001b[49m\u001b[43m \u001b[49m\u001b[43mfigsize\u001b[49m\u001b[43m)\u001b[49m\n",
      "Cell \u001b[0;32mIn[5], line 85\u001b[0m, in \u001b[0;36mplot_curves\u001b[0;34m(xy_list, x_axis, title, figsize)\u001b[0m\n\u001b[1;32m     74\u001b[0m \u001b[38;5;250m\u001b[39m\u001b[38;5;124;03m\"\"\"\u001b[39;00m\n\u001b[1;32m     75\u001b[0m \u001b[38;5;124;03mplot the curves\u001b[39;00m\n\u001b[1;32m     76\u001b[0m \n\u001b[0;32m   (...)\u001b[0m\n\u001b[1;32m     81\u001b[0m \u001b[38;5;124;03m:param figsize: Size of the figure (width, height)\u001b[39;00m\n\u001b[1;32m     82\u001b[0m \u001b[38;5;124;03m\"\"\"\u001b[39;00m\n\u001b[1;32m     84\u001b[0m plt\u001b[38;5;241m.\u001b[39mfigure(title, figsize\u001b[38;5;241m=\u001b[39mfigsize, facecolor\u001b[38;5;241m=\u001b[39m\u001b[38;5;124m'\u001b[39m\u001b[38;5;124m#121212\u001b[39m\u001b[38;5;124m'\u001b[39m, dpi\u001b[38;5;241m=\u001b[39m\u001b[38;5;241m300\u001b[39m)\n\u001b[0;32m---> 85\u001b[0m max_x \u001b[38;5;241m=\u001b[39m \u001b[38;5;28;43mmax\u001b[39;49m\u001b[43m(\u001b[49m\u001b[43mxy\u001b[49m\u001b[43m[\u001b[49m\u001b[38;5;241;43m0\u001b[39;49m\u001b[43m]\u001b[49m\u001b[43m[\u001b[49m\u001b[38;5;241;43m-\u001b[39;49m\u001b[38;5;241;43m1\u001b[39;49m\u001b[43m]\u001b[49m\u001b[43m \u001b[49m\u001b[38;5;28;43;01mfor\u001b[39;49;00m\u001b[43m \u001b[49m\u001b[43mxy\u001b[49m\u001b[43m \u001b[49m\u001b[38;5;129;43;01min\u001b[39;49;00m\u001b[43m \u001b[49m\u001b[43mxy_list\u001b[49m\u001b[43m)\u001b[49m\n\u001b[1;32m     86\u001b[0m min_x \u001b[38;5;241m=\u001b[39m \u001b[38;5;241m0\u001b[39m\n\u001b[1;32m     87\u001b[0m \u001b[38;5;28;01mfor\u001b[39;00m _, (x, y) \u001b[38;5;129;01min\u001b[39;00m \u001b[38;5;28menumerate\u001b[39m(xy_list):\n",
      "Cell \u001b[0;32mIn[5], line 85\u001b[0m, in \u001b[0;36m<genexpr>\u001b[0;34m(.0)\u001b[0m\n\u001b[1;32m     74\u001b[0m \u001b[38;5;250m\u001b[39m\u001b[38;5;124;03m\"\"\"\u001b[39;00m\n\u001b[1;32m     75\u001b[0m \u001b[38;5;124;03mplot the curves\u001b[39;00m\n\u001b[1;32m     76\u001b[0m \n\u001b[0;32m   (...)\u001b[0m\n\u001b[1;32m     81\u001b[0m \u001b[38;5;124;03m:param figsize: Size of the figure (width, height)\u001b[39;00m\n\u001b[1;32m     82\u001b[0m \u001b[38;5;124;03m\"\"\"\u001b[39;00m\n\u001b[1;32m     84\u001b[0m plt\u001b[38;5;241m.\u001b[39mfigure(title, figsize\u001b[38;5;241m=\u001b[39mfigsize, facecolor\u001b[38;5;241m=\u001b[39m\u001b[38;5;124m'\u001b[39m\u001b[38;5;124m#121212\u001b[39m\u001b[38;5;124m'\u001b[39m, dpi\u001b[38;5;241m=\u001b[39m\u001b[38;5;241m300\u001b[39m)\n\u001b[0;32m---> 85\u001b[0m max_x \u001b[38;5;241m=\u001b[39m \u001b[38;5;28mmax\u001b[39m(\u001b[43mxy\u001b[49m\u001b[43m[\u001b[49m\u001b[38;5;241;43m0\u001b[39;49m\u001b[43m]\u001b[49m\u001b[43m[\u001b[49m\u001b[38;5;241;43m-\u001b[39;49m\u001b[38;5;241;43m1\u001b[39;49m\u001b[43m]\u001b[49m \u001b[38;5;28;01mfor\u001b[39;00m xy \u001b[38;5;129;01min\u001b[39;00m xy_list)\n\u001b[1;32m     86\u001b[0m min_x \u001b[38;5;241m=\u001b[39m \u001b[38;5;241m0\u001b[39m\n\u001b[1;32m     87\u001b[0m \u001b[38;5;28;01mfor\u001b[39;00m _, (x, y) \u001b[38;5;129;01min\u001b[39;00m \u001b[38;5;28menumerate\u001b[39m(xy_list):\n",
      "\u001b[0;31mIndexError\u001b[0m: index -1 is out of bounds for axis 0 with size 0"
     ]
    },
    {
     "data": {
      "text/plain": [
       "<Figure size 2400x1500 with 0 Axes>"
      ]
     },
     "metadata": {},
     "output_type": "display_data"
    }
   ],
   "source": [
    "from stable_baselines3.common import results_plotter\n",
    "titles = [\"Walker 2D\", \"Hopper\"]\n",
    "ids = [\"Walker2d-v5\", \"Hopper-v5\"]\n",
    "for i in range(len(ids)):\n",
    "    \n",
    "    title = f\"{titles[i]} using PPO over 1m timesteps\"\n",
    "    plot_results(\n",
    "    [  log_dirs[i]], 1e7, results_plotter.X_TIMESTEPS, title, figsize=(8,5),\n",
    ")\n",
    "    "
   ]
  },
  {
   "cell_type": "code",
   "execution_count": null,
   "metadata": {},
   "outputs": [
    {
     "name": "stderr",
     "output_type": "stream",
     "text": [
      "/opt/anaconda3/envs/NeuroDL/lib/python3.8/site-packages/gymnasium/wrappers/rendering.py:283: UserWarning: \u001b[33mWARN: Overwriting existing videos at /Users/rashad/Documents/Uni/Year 4/BIOE70077 - Reinforcement Learning/Coursework/Coursework 2/gym/HalfCheetah-v5/videos folder (try specifying a different `video_folder` for the `RecordVideo` wrapper if this is not desired)\u001b[0m\n",
      "  logger.warn(\n"
     ]
    },
    {
     "name": "stdout",
     "output_type": "stream",
     "text": [
      "Video saved to /Users/rashad/Documents/Uni/Year 4/BIOE70077 - Reinforcement Learning/Coursework/Coursework 2/gym/HalfCheetah-v5/videos\n"
     ]
    },
    {
     "name": "stderr",
     "output_type": "stream",
     "text": [
      "/opt/anaconda3/envs/NeuroDL/lib/python3.8/site-packages/gymnasium/wrappers/rendering.py:283: UserWarning: \u001b[33mWARN: Overwriting existing videos at /Users/rashad/Documents/Uni/Year 4/BIOE70077 - Reinforcement Learning/Coursework/Coursework 2/gym/Walker2d-v5/videos folder (try specifying a different `video_folder` for the `RecordVideo` wrapper if this is not desired)\u001b[0m\n",
      "  logger.warn(\n",
      "/opt/anaconda3/envs/NeuroDL/lib/python3.8/site-packages/stable_baselines3/common/save_util.py:167: UserWarning: Could not deserialize object clip_range. Consider using `custom_objects` argument to replace this object.\n",
      "Exception: code() takes at most 16 arguments (18 given)\n",
      "  warnings.warn(\n",
      "/opt/anaconda3/envs/NeuroDL/lib/python3.8/site-packages/stable_baselines3/common/save_util.py:167: UserWarning: Could not deserialize object lr_schedule. Consider using `custom_objects` argument to replace this object.\n",
      "Exception: code() takes at most 16 arguments (18 given)\n",
      "  warnings.warn(\n"
     ]
    },
    {
     "name": "stdout",
     "output_type": "stream",
     "text": [
      "Video saved to /Users/rashad/Documents/Uni/Year 4/BIOE70077 - Reinforcement Learning/Coursework/Coursework 2/gym/Walker2d-v5/videos\n"
     ]
    },
    {
     "name": "stderr",
     "output_type": "stream",
     "text": [
      "/opt/anaconda3/envs/NeuroDL/lib/python3.8/site-packages/gymnasium/wrappers/rendering.py:283: UserWarning: \u001b[33mWARN: Overwriting existing videos at /Users/rashad/Documents/Uni/Year 4/BIOE70077 - Reinforcement Learning/Coursework/Coursework 2/gym/Hopper-v5/videos folder (try specifying a different `video_folder` for the `RecordVideo` wrapper if this is not desired)\u001b[0m\n",
      "  logger.warn(\n",
      "/opt/anaconda3/envs/NeuroDL/lib/python3.8/site-packages/stable_baselines3/common/save_util.py:167: UserWarning: Could not deserialize object clip_range. Consider using `custom_objects` argument to replace this object.\n",
      "Exception: code() takes at most 16 arguments (18 given)\n",
      "  warnings.warn(\n",
      "/opt/anaconda3/envs/NeuroDL/lib/python3.8/site-packages/stable_baselines3/common/save_util.py:167: UserWarning: Could not deserialize object lr_schedule. Consider using `custom_objects` argument to replace this object.\n",
      "Exception: code() takes at most 16 arguments (18 given)\n",
      "  warnings.warn(\n"
     ]
    },
    {
     "name": "stdout",
     "output_type": "stream",
     "text": [
      "Video saved to /Users/rashad/Documents/Uni/Year 4/BIOE70077 - Reinforcement Learning/Coursework/Coursework 2/gym/Hopper-v5/videos\n"
     ]
    },
    {
     "ename": "",
     "evalue": "",
     "output_type": "error",
     "traceback": [
      "\u001b[1;31mThe Kernel crashed while executing code in the current cell or a previous cell. \n",
      "\u001b[1;31mPlease review the code in the cell(s) to identify a possible cause of the failure. \n",
      "\u001b[1;31mClick <a href='https://aka.ms/vscodeJupyterKernelCrash'>here</a> for more info. \n",
      "\u001b[1;31mView Jupyter <a href='command:jupyter.viewOutput'>log</a> for further details."
     ]
    }
   ],
   "source": [
    "import gymnasium as gym\n",
    "from stable_baselines3 import PPO\n",
    "import os\n",
    "\n",
    "# Define the list of environments\n",
    "env_ids = [\"Walker2d-v5\", \"Hopper-v5\"]\n",
    "\n",
    "for env_id in env_ids:\n",
    "    # Paths for the saved model and videos\n",
    "    model_path = f\"/Users/rashad/Documents/Uni/Year 4/BIOE70077 - Reinforcement Learning/Coursework/Coursework 2/gym/{env_id}/final_model\"\n",
    "    video_dir = f\"/Users/rashad/Documents/Uni/Year 4/BIOE70077 - Reinforcement Learning/Coursework/Coursework 2/gym/{env_id}/videos\"\n",
    "    \n",
    "    # Create the video directory if it doesn't exist\n",
    "    os.makedirs(video_dir, exist_ok=True)\n",
    "    \n",
    "    # Create the environment with the RecordVideo wrapper\n",
    "    env = gym.make(env_id, render_mode=\"rgb_array\")\n",
    "    env = gym.wrappers.RecordVideo(env, video_folder=video_dir, video_length=1000, fps=30)\n",
    "    \n",
    "    # Load the saved PPO model\n",
    "    model = PPO.load(model_path)\n",
    "    \n",
    "    # Run the policy in the environment and record the video\n",
    "    obs, _ = env.reset()\n",
    "    done = False\n",
    "    max_steps = 1000  # Limit to 1000 steps\n",
    "    step_count = 0\n",
    "    while not done and step_count < max_steps:\n",
    "        # Predict the action using the trained model\n",
    "        action, _ = model.predict(obs)\n",
    "        obs, reward, done, _, _ = env.step(action)\n",
    "        step_count += 1\n",
    "    \n",
    "    env.close()\n",
    "    print(f\"Video saved to {video_dir}\")\n"
   ]
  }
 ],
 "metadata": {
  "kernelspec": {
   "display_name": "NeuroDL",
   "language": "python",
   "name": "python3"
  },
  "language_info": {
   "codemirror_mode": {
    "name": "ipython",
    "version": 3
   },
   "file_extension": ".py",
   "mimetype": "text/x-python",
   "name": "python",
   "nbconvert_exporter": "python",
   "pygments_lexer": "ipython3",
   "version": "3.8.19"
  }
 },
 "nbformat": 4,
 "nbformat_minor": 2
}
